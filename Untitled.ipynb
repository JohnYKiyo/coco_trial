{
 "cells": [
  {
   "cell_type": "code",
   "execution_count": 1,
   "metadata": {},
   "outputs": [],
   "source": [
    "from cocoex import Suite"
   ]
  },
  {
   "cell_type": "code",
   "execution_count": 2,
   "metadata": {},
   "outputs": [],
   "source": [
    "suite = Suite('bbob','','dimensions: 2,3')"
   ]
  },
  {
   "cell_type": "code",
   "execution_count": 3,
   "metadata": {},
   "outputs": [],
   "source": [
    "for p in suite:\n",
    "    break"
   ]
  },
  {
   "cell_type": "code",
   "execution_count": 6,
   "metadata": {},
   "outputs": [
    {
     "data": {
      "text/plain": [
       "99.81169408000001"
      ]
     },
     "execution_count": 6,
     "metadata": {},
     "output_type": "execute_result"
    }
   ],
   "source": [
    "p([2,3])"
   ]
  },
  {
   "cell_type": "code",
   "execution_count": 9,
   "metadata": {},
   "outputs": [
    {
     "name": "stdout",
     "output_type": "stream",
     "text": [
      "iteration: 0 [-3.871901357536743, 1.1234848190244664] 101.6928601447389\n",
      "iteration: 1 [0.5039642000044031, -1.3408282898439223] 79.57694986682674\n",
      "iteration: 2 [2.401498297870944, -4.49575127239677] 95.24549997471351\n",
      "iteration: 3 [2.7689619044205918, -2.4934233831505486] 87.59763279764229\n",
      "iteration: 4 [-3.3170404390804284, 0.27445740574650745] 94.27225852199817\n",
      "iteration: 5 [0.9632603332048681, 0.535050775614546] 82.84711293200512\n",
      "iteration: 6 [1.9083262980701292, -3.2063606545229537] 86.42146620017036\n",
      "iteration: 7 [3.9409802387266932, 3.428087708263556] 114.10386877072034\n",
      "iteration: 8 [-0.6438122654356739, 3.836535691627745] 105.21731488381323\n",
      "iteration: 9 [-4.378811986118465, 3.8337732192998537] 125.83765064714915\n",
      "iteration: 10 [-5.0, -5.0] 121.84209408000001\n",
      "iteration: 11 [-0.010928082686420204, -0.9506635140221826] 79.59204475244874\n",
      "iteration: 12 [0.34279945993862526, -1.1627369850573395] 79.48813515058082\n",
      "iteration: 13 [0.09756818237613984, -1.0726360788380607] 79.51118048282817\n",
      "iteration: 14 [0.3205375884326642, -1.0704868026580483] 79.49203834892207\n",
      "iteration: 15 [0.1526768410710142, -0.8931421108927413] 79.55954012944242\n",
      "iteration: 16 [0.21992507462922006, -1.1840351151967052] 79.48182251221792\n",
      "iteration: 17 [0.4290447911520934, -1.100902707546394] 79.5141867337119\n",
      "iteration: 18 [0.15399033445710142, -1.2390331936412058] 79.49652564814113\n",
      "iteration: 19 [0.26226218399138634, -1.141578966812152] 79.4803212127772\n"
     ]
    }
   ],
   "source": [
    "from skopt import Optimizer\n",
    "\n",
    "bounds = []\n",
    "for i in range(p.dimension):\n",
    "    bounds.append((p.lower_bounds[i], p.upper_bounds[i]))\n",
    "opt = Optimizer(bounds,acq_func=\"LCB\")\n",
    "for i in range(20):\n",
    "    suggested = opt.ask()\n",
    "    y = p(suggested)\n",
    "    opt.tell(suggested, y)\n",
    "    print('iteration:', i, suggested, y)"
   ]
  },
  {
   "cell_type": "code",
   "execution_count": 12,
   "metadata": {},
   "outputs": [
    {
     "data": {
      "text/plain": [
       "10.0"
      ]
     },
     "execution_count": 12,
     "metadata": {},
     "output_type": "execute_result"
    }
   ],
   "source": [
    "1e1-p.evaluations_constraints"
   ]
  }
 ],
 "metadata": {
  "kernelspec": {
   "display_name": "Python 3",
   "language": "python",
   "name": "python3"
  },
  "language_info": {
   "codemirror_mode": {
    "name": "ipython",
    "version": 3
   },
   "file_extension": ".py",
   "mimetype": "text/x-python",
   "name": "python",
   "nbconvert_exporter": "python",
   "pygments_lexer": "ipython3",
   "version": "3.7.0"
  }
 },
 "nbformat": 4,
 "nbformat_minor": 4
}
